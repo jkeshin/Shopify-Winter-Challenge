{
 "cells": [
  {
   "cell_type": "code",
   "execution_count": 86,
   "metadata": {},
   "outputs": [],
   "source": [
    "import pandas as pd\n",
    "import numpy as np\n",
    "\n",
    "df = pd.read_csv(\"shopify.csv\")"
   ]
  },
  {
   "cell_type": "markdown",
   "metadata": {},
   "source": [
    "Average Order Value\n",
    "\n",
    "On Shopify, we have exactly 100 sneaker shops, and each of these shops sells only one model of shoe. We want to do some analysis of the average order value (AOV). When we look at orders data over a 30 day window, we naively calculate an AOV of $3145.13. Given that we know these shops are selling sneakers, a relatively affordable item, something seems wrong with our analysis. \n",
    "\n",
    "Question - Think about what could be going wrong with our calculation. Think about a better way to evaluate this data. \n",
    "\n",
    "The current average order value is $3145.13 of 100 sneaker shops. The average order value has a high standard deviation of 41282 which signifies that the order values are spread far from the mean. This average order value does not represent the data properly."
   ]
  },
  {
   "cell_type": "code",
   "execution_count": 88,
   "metadata": {},
   "outputs": [
    {
     "data": {
      "text/plain": [
       "count      5000.000000\n",
       "mean       3145.128000\n",
       "std       41282.539349\n",
       "min          90.000000\n",
       "25%         163.000000\n",
       "50%         284.000000\n",
       "75%         390.000000\n",
       "max      704000.000000\n",
       "Name: order_amount, dtype: float64"
      ]
     },
     "execution_count": 88,
     "metadata": {},
     "output_type": "execute_result"
    }
   ],
   "source": [
    "df.order_amount.describe()"
   ]
  },
  {
   "cell_type": "markdown",
   "metadata": {},
   "source": [
    "Question - What metric would you report for this dataset?\n",
    "\n",
    "A better approach would be understand what is the commerce behind the scenes which means we need to understand that shops are of two types wholesale shops and retail shops. The wholesale shops are the ones which sell the product in large quantity and at lower price while the retail shops are the one which sell things directly to customers which means the shop sells low quantity and at a higher price. On the basis of this logic, we make out that we need to have different average order value for each type of shops.\n",
    "\n",
    "In this approach, we identify wholesale and retail shops and output the average order value of the retails shops as we have only one wholesale shop in the dataset. \n",
    "\n",
    "Steps -\n",
    "1. Calculate the average order amount of each shop by getting total order amount and total number of sneakers sold by every shop.\n",
    "    In this step we get to know that shop number 78 is a wholesale shop while others are retail shops.\n",
    "2. Drop the row of wholesale shop.\n",
    "3. Caluclate the average order value of this dataset of retail shops."
   ]
  },
  {
   "cell_type": "code",
   "execution_count": 79,
   "metadata": {},
   "outputs": [
    {
     "data": {
      "text/html": [
       "<div>\n",
       "<style scoped>\n",
       "    .dataframe tbody tr th:only-of-type {\n",
       "        vertical-align: middle;\n",
       "    }\n",
       "\n",
       "    .dataframe tbody tr th {\n",
       "        vertical-align: top;\n",
       "    }\n",
       "\n",
       "    .dataframe thead th {\n",
       "        text-align: right;\n",
       "    }\n",
       "</style>\n",
       "<table border=\"1\" class=\"dataframe\">\n",
       "  <thead>\n",
       "    <tr style=\"text-align: right;\">\n",
       "      <th></th>\n",
       "      <th>shop_id</th>\n",
       "      <th>total orders</th>\n",
       "      <th>sum_qty</th>\n",
       "      <th>average</th>\n",
       "    </tr>\n",
       "  </thead>\n",
       "  <tbody>\n",
       "    <tr>\n",
       "      <th>77</th>\n",
       "      <td>78</td>\n",
       "      <td>2263800</td>\n",
       "      <td>88</td>\n",
       "      <td>25725.0</td>\n",
       "    </tr>\n",
       "    <tr>\n",
       "      <th>41</th>\n",
       "      <td>42</td>\n",
       "      <td>11990176</td>\n",
       "      <td>34063</td>\n",
       "      <td>352.0</td>\n",
       "    </tr>\n",
       "    <tr>\n",
       "      <th>11</th>\n",
       "      <td>12</td>\n",
       "      <td>18693</td>\n",
       "      <td>93</td>\n",
       "      <td>201.0</td>\n",
       "    </tr>\n",
       "    <tr>\n",
       "      <th>88</th>\n",
       "      <td>89</td>\n",
       "      <td>23128</td>\n",
       "      <td>118</td>\n",
       "      <td>196.0</td>\n",
       "    </tr>\n",
       "    <tr>\n",
       "      <th>98</th>\n",
       "      <td>99</td>\n",
       "      <td>18330</td>\n",
       "      <td>94</td>\n",
       "      <td>195.0</td>\n",
       "    </tr>\n",
       "    <tr>\n",
       "      <th>...</th>\n",
       "      <td>...</td>\n",
       "      <td>...</td>\n",
       "      <td>...</td>\n",
       "      <td>...</td>\n",
       "    </tr>\n",
       "    <tr>\n",
       "      <th>52</th>\n",
       "      <td>53</td>\n",
       "      <td>14560</td>\n",
       "      <td>130</td>\n",
       "      <td>112.0</td>\n",
       "    </tr>\n",
       "    <tr>\n",
       "      <th>99</th>\n",
       "      <td>100</td>\n",
       "      <td>8547</td>\n",
       "      <td>77</td>\n",
       "      <td>111.0</td>\n",
       "    </tr>\n",
       "    <tr>\n",
       "      <th>31</th>\n",
       "      <td>32</td>\n",
       "      <td>7979</td>\n",
       "      <td>79</td>\n",
       "      <td>101.0</td>\n",
       "    </tr>\n",
       "    <tr>\n",
       "      <th>1</th>\n",
       "      <td>2</td>\n",
       "      <td>9588</td>\n",
       "      <td>102</td>\n",
       "      <td>94.0</td>\n",
       "    </tr>\n",
       "    <tr>\n",
       "      <th>91</th>\n",
       "      <td>92</td>\n",
       "      <td>6840</td>\n",
       "      <td>76</td>\n",
       "      <td>90.0</td>\n",
       "    </tr>\n",
       "  </tbody>\n",
       "</table>\n",
       "<p>100 rows × 4 columns</p>\n",
       "</div>"
      ],
      "text/plain": [
       "    shop_id  total orders  sum_qty  average\n",
       "77       78       2263800       88  25725.0\n",
       "41       42      11990176    34063    352.0\n",
       "11       12         18693       93    201.0\n",
       "88       89         23128      118    196.0\n",
       "98       99         18330       94    195.0\n",
       "..      ...           ...      ...      ...\n",
       "52       53         14560      130    112.0\n",
       "99      100          8547       77    111.0\n",
       "31       32          7979       79    101.0\n",
       "1         2          9588      102     94.0\n",
       "91       92          6840       76     90.0\n",
       "\n",
       "[100 rows x 4 columns]"
      ]
     },
     "execution_count": 79,
     "metadata": {},
     "output_type": "execute_result"
    }
   ],
   "source": [
    "dfsum = df.groupby(['shop_id'])['order_amount'].sum().to_frame('total orders').reset_index().sort_values(['shop_id'])\n",
    "dfqty = df.groupby(['shop_id'])['total_items'].sum().to_frame('sum_qty').reset_index().sort_values(['shop_id'])\n",
    "#dfqty\n",
    "\n",
    "df_final = pd.merge(dfsum,dfqty,on='shop_id')\n",
    "df_final['average'] = df_final['total orders']/df_final['sum_qty']\n",
    "df_final = df_final.sort_values(['average'],ascending = False)\n",
    "df_final"
   ]
  },
  {
   "cell_type": "code",
   "execution_count": 80,
   "metadata": {},
   "outputs": [],
   "source": [
    "df = df_final.drop(df_final[df_final.average > 1000].index)"
   ]
  },
  {
   "cell_type": "markdown",
   "metadata": {},
   "source": [
    "Question - What is its value?\n",
    " \n",
    "The new average order value is 152.26 which has a quite low standard deviation of 31.26 than the earlier average order value. This average order value represents the data in an accurate manner."
   ]
  },
  {
   "cell_type": "code",
   "execution_count": 81,
   "metadata": {},
   "outputs": [
    {
     "data": {
      "text/plain": [
       "count     99.000000\n",
       "mean     152.262626\n",
       "std       31.263719\n",
       "min       90.000000\n",
       "25%      132.500000\n",
       "50%      153.000000\n",
       "75%      167.000000\n",
       "max      352.000000\n",
       "Name: average, dtype: float64"
      ]
     },
     "execution_count": 81,
     "metadata": {},
     "output_type": "execute_result"
    }
   ],
   "source": [
    "df['average'].describe()"
   ]
  },
  {
   "cell_type": "code",
   "execution_count": 82,
   "metadata": {},
   "outputs": [
    {
     "data": {
      "text/plain": [
       "count      100.000000\n",
       "mean       407.990000\n",
       "std       2557.462906\n",
       "min         90.000000\n",
       "25%        132.750000\n",
       "50%        153.000000\n",
       "75%        168.250000\n",
       "max      25725.000000\n",
       "Name: average, dtype: float64"
      ]
     },
     "execution_count": 82,
     "metadata": {},
     "output_type": "execute_result"
    }
   ],
   "source": [
    "df_final['average'].describe()"
   ]
  }
 ],
 "metadata": {
  "kernelspec": {
   "display_name": "Python 3",
   "language": "python",
   "name": "python3"
  },
  "language_info": {
   "codemirror_mode": {
    "name": "ipython",
    "version": 3
   },
   "file_extension": ".py",
   "mimetype": "text/x-python",
   "name": "python",
   "nbconvert_exporter": "python",
   "pygments_lexer": "ipython3",
   "version": "3.8.3"
  }
 },
 "nbformat": 4,
 "nbformat_minor": 4
}
